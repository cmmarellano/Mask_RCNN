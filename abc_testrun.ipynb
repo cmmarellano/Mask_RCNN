{
 "cells": [
  {
   "cell_type": "markdown",
   "id": "87e37ec9",
   "metadata": {},
   "source": [
    "## Check __Tensorflow 2__\n",
    "-----"
   ]
  },
  {
   "cell_type": "code",
   "execution_count": 1,
   "id": "6cd94d9c",
   "metadata": {},
   "outputs": [],
   "source": [
    "import tensorflow as tf\n",
    "import os, sys\n",
    "from tensorflow.keras import datasets, layers, models\n",
    "import matplotlib.pyplot as plt\n",
    "from tensorflow.python.platform import build_info as tf_build_info"
   ]
  },
  {
   "cell_type": "code",
   "execution_count": 2,
   "id": "ebf86654",
   "metadata": {},
   "outputs": [],
   "source": [
    "hello = tf.constant(\"hello TensorFlow!\")"
   ]
  },
  {
   "cell_type": "code",
   "execution_count": 3,
   "id": "db4d512d",
   "metadata": {},
   "outputs": [
    {
     "name": "stdout",
     "output_type": "stream",
     "text": [
      "30.0\n"
     ]
    }
   ],
   "source": [
    "# Build a graph.\n",
    "a = tf.constant(5.0)\n",
    "b = tf.constant(6.0)\n",
    "c = a * b\n",
    "\n",
    "# Launch the graph in a session.\n",
    "sess = tf.compat.v1.Session()\n",
    "\n",
    "\n",
    "# Launch the graph in a session.\n",
    "     \n",
    "    \n",
    "with tf.compat.v1.Session() as ses:# Build a graph.\n",
    "    a = tf.constant(5.0)\n",
    "    b = tf.constant(6.0)\n",
    "    c = a * b\n",
    "\n",
    "     # Evaluate the tensor `c`.\n",
    "    print(ses.run(c))"
   ]
  },
  {
   "cell_type": "markdown",
   "id": "2866d4f8",
   "metadata": {},
   "source": [
    "## Check __CUDA__ and __cuDNN__\n",
    "-----"
   ]
  },
  {
   "cell_type": "code",
   "execution_count": 4,
   "id": "696f07fd",
   "metadata": {},
   "outputs": [
    {
     "name": "stdout",
     "output_type": "stream",
     "text": [
      "cudnn_version 64_8\n"
     ]
    }
   ],
   "source": [
    "print(\"cudnn_version\",tf_build_info.build_info['cudnn_version'])"
   ]
  },
  {
   "cell_type": "code",
   "execution_count": 5,
   "id": "e3a24d95",
   "metadata": {},
   "outputs": [
    {
     "name": "stdout",
     "output_type": "stream",
     "text": [
      "cuda_version 64_112\n"
     ]
    }
   ],
   "source": [
    "print(\"cuda_version\",tf_build_info.build_info['cuda_version'])"
   ]
  },
  {
   "cell_type": "markdown",
   "id": "b0a7ced8",
   "metadata": {},
   "source": [
    "## Check __MaskR-CNN__\n",
    "----"
   ]
  },
  {
   "cell_type": "code",
   "execution_count": 23,
   "id": "2de43b76",
   "metadata": {},
   "outputs": [],
   "source": [
    "# Set the ROOT_DIR variable to the root directory of the Mask_RCNN git repo\n",
    "ROOT_DIR = \"C:\\\\Users\\\\carellano.LEGION5PRO-O3OB\\\\Documents\\\\GitHub\\\\Mask_RCNN\"\n",
    "assert os.path.exists(ROOT_DIR), 'ROOT_DIR does not exist. Did you forget to read the instructions above? ;)'"
   ]
  },
  {
   "cell_type": "code",
   "execution_count": 24,
   "id": "f3a23a7e",
   "metadata": {},
   "outputs": [
    {
     "data": {
      "text/plain": [
       "os.stat_result(st_mode=16895, st_ino=2251799814685781, st_dev=2121314935, st_nlink=1, st_uid=0, st_gid=0, st_size=4096, st_atime=1660705050, st_mtime=1660705049, st_ctime=1660701920)"
      ]
     },
     "execution_count": 24,
     "metadata": {},
     "output_type": "execute_result"
    }
   ],
   "source": [
    "# Get the status of\n",
    "# the specified path\n",
    "status = os.stat(ROOT_DIR)\n",
    "status"
   ]
  },
  {
   "cell_type": "code",
   "execution_count": 25,
   "id": "832984b2",
   "metadata": {},
   "outputs": [
    {
     "name": "stdout",
     "output_type": "stream",
     "text": [
      "True\n"
     ]
    }
   ],
   "source": [
    "isExist = os.path.exists(ROOT_DIR)\n",
    "print(isExist)"
   ]
  },
  {
   "cell_type": "code",
   "execution_count": 26,
   "id": "3f7ffbac",
   "metadata": {},
   "outputs": [],
   "source": [
    "# Import mrcnn libraries; need to point to root dir\n",
    "\n",
    "sys.path.append(ROOT_DIR) \n",
    "from mrcnn.config import Config\n",
    "import mrcnn.utils as utils\n",
    "from mrcnn import visualize\n",
    "import mrcnn.model as modellib"
   ]
  }
 ],
 "metadata": {
  "kernelspec": {
   "display_name": "py39 (TF2.9.1)",
   "language": "python",
   "name": "py39_tf"
  },
  "language_info": {
   "codemirror_mode": {
    "name": "ipython",
    "version": 3
   },
   "file_extension": ".py",
   "mimetype": "text/x-python",
   "name": "python",
   "nbconvert_exporter": "python",
   "pygments_lexer": "ipython3",
   "version": "3.9.12"
  }
 },
 "nbformat": 4,
 "nbformat_minor": 5
}
